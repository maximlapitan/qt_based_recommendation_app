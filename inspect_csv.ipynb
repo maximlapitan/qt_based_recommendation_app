{
 "cells": [
  {
   "cell_type": "markdown",
   "metadata": {},
   "source": [
    "# Jupyter for working with cars dataset"
   ]
  },
  {
   "cell_type": "code",
   "execution_count": 14,
   "metadata": {},
   "outputs": [],
   "source": [
    "import csv\n",
    "import pandas as pd\n",
    "from sklearn.preprocessing import LabelEncoder\n",
    "from sklearn.model_selection import train_test_split\n",
    "from sklearn.neural_network import MLPRegressor\n",
    "from sklearn.linear_model import LinearRegression\n",
    "from sklearn.metrics import mean_squared_error, r2_score\n",
    "import numpy as np\n",
    "import matplotlib.pyplot as plt"
   ]
  },
  {
   "cell_type": "markdown",
   "metadata": {},
   "source": [
    "## Describe and analyze data\n",
    "\n",
    "Data was prepared beforehand. That means, that original `.csv` file differs from that, what we use here."
   ]
  },
  {
   "cell_type": "code",
   "execution_count": 2,
   "metadata": {},
   "outputs": [],
   "source": [
    "data = pd.read_csv(\"car_price_prediction.csv\")"
   ]
  },
  {
   "cell_type": "code",
   "execution_count": 3,
   "metadata": {},
   "outputs": [
    {
     "data": {
      "text/html": [
       "<div>\n",
       "<style scoped>\n",
       "    .dataframe tbody tr th:only-of-type {\n",
       "        vertical-align: middle;\n",
       "    }\n",
       "\n",
       "    .dataframe tbody tr th {\n",
       "        vertical-align: top;\n",
       "    }\n",
       "\n",
       "    .dataframe thead th {\n",
       "        text-align: right;\n",
       "    }\n",
       "</style>\n",
       "<table border=\"1\" class=\"dataframe\">\n",
       "  <thead>\n",
       "    <tr style=\"text-align: right;\">\n",
       "      <th></th>\n",
       "      <th>Price</th>\n",
       "      <th>Manufacturer</th>\n",
       "      <th>Model</th>\n",
       "      <th>Prod. year</th>\n",
       "      <th>Category</th>\n",
       "      <th>Leather interior</th>\n",
       "      <th>Fuel type</th>\n",
       "      <th>Engine volume</th>\n",
       "      <th>Mileage</th>\n",
       "      <th>Cylinders</th>\n",
       "      <th>Gear box type</th>\n",
       "      <th>Drive wheels</th>\n",
       "      <th>Doors</th>\n",
       "      <th>Wheel</th>\n",
       "      <th>Color</th>\n",
       "      <th>Turbo</th>\n",
       "    </tr>\n",
       "  </thead>\n",
       "  <tbody>\n",
       "    <tr>\n",
       "      <th>0</th>\n",
       "      <td>13328</td>\n",
       "      <td>LEXUS</td>\n",
       "      <td>RX 450</td>\n",
       "      <td>2010</td>\n",
       "      <td>Jeep</td>\n",
       "      <td>True</td>\n",
       "      <td>Hybrid</td>\n",
       "      <td>3.5</td>\n",
       "      <td>186005</td>\n",
       "      <td>6.0</td>\n",
       "      <td>Automatic</td>\n",
       "      <td>4x4</td>\n",
       "      <td>4</td>\n",
       "      <td>Left wheel</td>\n",
       "      <td>Silver</td>\n",
       "      <td>False</td>\n",
       "    </tr>\n",
       "    <tr>\n",
       "      <th>1</th>\n",
       "      <td>16621</td>\n",
       "      <td>CHEVROLET</td>\n",
       "      <td>Equinox</td>\n",
       "      <td>2011</td>\n",
       "      <td>Jeep</td>\n",
       "      <td>False</td>\n",
       "      <td>Petrol</td>\n",
       "      <td>3.0</td>\n",
       "      <td>192000</td>\n",
       "      <td>6.0</td>\n",
       "      <td>Tiptronic</td>\n",
       "      <td>4x4</td>\n",
       "      <td>4</td>\n",
       "      <td>Left wheel</td>\n",
       "      <td>Black</td>\n",
       "      <td>False</td>\n",
       "    </tr>\n",
       "    <tr>\n",
       "      <th>2</th>\n",
       "      <td>8467</td>\n",
       "      <td>HONDA</td>\n",
       "      <td>FIT</td>\n",
       "      <td>2006</td>\n",
       "      <td>Hatchback</td>\n",
       "      <td>False</td>\n",
       "      <td>Petrol</td>\n",
       "      <td>1.3</td>\n",
       "      <td>200000</td>\n",
       "      <td>4.0</td>\n",
       "      <td>Variator</td>\n",
       "      <td>Front</td>\n",
       "      <td>4</td>\n",
       "      <td>Right-hand drive</td>\n",
       "      <td>Black</td>\n",
       "      <td>False</td>\n",
       "    </tr>\n",
       "    <tr>\n",
       "      <th>3</th>\n",
       "      <td>3607</td>\n",
       "      <td>FORD</td>\n",
       "      <td>Escape</td>\n",
       "      <td>2011</td>\n",
       "      <td>Jeep</td>\n",
       "      <td>True</td>\n",
       "      <td>Hybrid</td>\n",
       "      <td>2.5</td>\n",
       "      <td>168966</td>\n",
       "      <td>4.0</td>\n",
       "      <td>Automatic</td>\n",
       "      <td>4x4</td>\n",
       "      <td>4</td>\n",
       "      <td>Left wheel</td>\n",
       "      <td>White</td>\n",
       "      <td>False</td>\n",
       "    </tr>\n",
       "    <tr>\n",
       "      <th>4</th>\n",
       "      <td>11726</td>\n",
       "      <td>HONDA</td>\n",
       "      <td>FIT</td>\n",
       "      <td>2014</td>\n",
       "      <td>Hatchback</td>\n",
       "      <td>True</td>\n",
       "      <td>Petrol</td>\n",
       "      <td>1.3</td>\n",
       "      <td>91901</td>\n",
       "      <td>4.0</td>\n",
       "      <td>Automatic</td>\n",
       "      <td>Front</td>\n",
       "      <td>4</td>\n",
       "      <td>Left wheel</td>\n",
       "      <td>Silver</td>\n",
       "      <td>False</td>\n",
       "    </tr>\n",
       "  </tbody>\n",
       "</table>\n",
       "</div>"
      ],
      "text/plain": [
       "   Price Manufacturer    Model  Prod. year   Category  Leather interior  \\\n",
       "0  13328        LEXUS   RX 450        2010       Jeep              True   \n",
       "1  16621    CHEVROLET  Equinox        2011       Jeep             False   \n",
       "2   8467        HONDA      FIT        2006  Hatchback             False   \n",
       "3   3607         FORD   Escape        2011       Jeep              True   \n",
       "4  11726        HONDA      FIT        2014  Hatchback              True   \n",
       "\n",
       "  Fuel type  Engine volume  Mileage  Cylinders Gear box type Drive wheels  \\\n",
       "0    Hybrid            3.5   186005        6.0     Automatic          4x4   \n",
       "1    Petrol            3.0   192000        6.0     Tiptronic          4x4   \n",
       "2    Petrol            1.3   200000        4.0      Variator        Front   \n",
       "3    Hybrid            2.5   168966        4.0     Automatic          4x4   \n",
       "4    Petrol            1.3    91901        4.0     Automatic        Front   \n",
       "\n",
       "   Doors             Wheel   Color  Turbo  \n",
       "0      4        Left wheel  Silver  False  \n",
       "1      4        Left wheel   Black  False  \n",
       "2      4  Right-hand drive   Black  False  \n",
       "3      4        Left wheel   White  False  \n",
       "4      4        Left wheel  Silver  False  "
      ]
     },
     "execution_count": 3,
     "metadata": {},
     "output_type": "execute_result"
    }
   ],
   "source": [
    "data.head()"
   ]
  },
  {
   "cell_type": "code",
   "execution_count": 4,
   "metadata": {},
   "outputs": [
    {
     "name": "stdout",
     "output_type": "stream",
     "text": [
      "<class 'pandas.core.frame.DataFrame'>\n",
      "RangeIndex: 19237 entries, 0 to 19236\n",
      "Data columns (total 16 columns):\n",
      " #   Column            Non-Null Count  Dtype  \n",
      "---  ------            --------------  -----  \n",
      " 0   Price             19237 non-null  int64  \n",
      " 1   Manufacturer      19237 non-null  object \n",
      " 2   Model             19237 non-null  object \n",
      " 3   Prod. year        19237 non-null  int64  \n",
      " 4   Category          19237 non-null  object \n",
      " 5   Leather interior  19237 non-null  bool   \n",
      " 6   Fuel type         19237 non-null  object \n",
      " 7   Engine volume     19237 non-null  float64\n",
      " 8   Mileage           19237 non-null  int64  \n",
      " 9   Cylinders         19237 non-null  float64\n",
      " 10  Gear box type     19237 non-null  object \n",
      " 11  Drive wheels      19237 non-null  object \n",
      " 12  Doors             19237 non-null  int64  \n",
      " 13  Wheel             19237 non-null  object \n",
      " 14  Color             19237 non-null  object \n",
      " 15  Turbo             19237 non-null  bool   \n",
      "dtypes: bool(2), float64(2), int64(4), object(8)\n",
      "memory usage: 2.1+ MB\n"
     ]
    }
   ],
   "source": [
    "data.info()"
   ]
  },
  {
   "cell_type": "code",
   "execution_count": 5,
   "metadata": {},
   "outputs": [
    {
     "data": {
      "text/html": [
       "<div>\n",
       "<style scoped>\n",
       "    .dataframe tbody tr th:only-of-type {\n",
       "        vertical-align: middle;\n",
       "    }\n",
       "\n",
       "    .dataframe tbody tr th {\n",
       "        vertical-align: top;\n",
       "    }\n",
       "\n",
       "    .dataframe thead th {\n",
       "        text-align: right;\n",
       "    }\n",
       "</style>\n",
       "<table border=\"1\" class=\"dataframe\">\n",
       "  <thead>\n",
       "    <tr style=\"text-align: right;\">\n",
       "      <th></th>\n",
       "      <th>Price</th>\n",
       "      <th>Prod. year</th>\n",
       "      <th>Engine volume</th>\n",
       "      <th>Mileage</th>\n",
       "      <th>Cylinders</th>\n",
       "      <th>Doors</th>\n",
       "    </tr>\n",
       "  </thead>\n",
       "  <tbody>\n",
       "    <tr>\n",
       "      <th>count</th>\n",
       "      <td>1.923700e+04</td>\n",
       "      <td>19237.000000</td>\n",
       "      <td>19237.000000</td>\n",
       "      <td>1.923700e+04</td>\n",
       "      <td>19237.000000</td>\n",
       "      <td>19237.000000</td>\n",
       "    </tr>\n",
       "    <tr>\n",
       "      <th>mean</th>\n",
       "      <td>1.855593e+04</td>\n",
       "      <td>2010.912824</td>\n",
       "      <td>2.307990</td>\n",
       "      <td>1.532236e+06</td>\n",
       "      <td>4.582991</td>\n",
       "      <td>3.925872</td>\n",
       "    </tr>\n",
       "    <tr>\n",
       "      <th>std</th>\n",
       "      <td>1.905813e+05</td>\n",
       "      <td>5.668673</td>\n",
       "      <td>0.877805</td>\n",
       "      <td>4.840387e+07</td>\n",
       "      <td>1.199933</td>\n",
       "      <td>0.403399</td>\n",
       "    </tr>\n",
       "    <tr>\n",
       "      <th>min</th>\n",
       "      <td>1.000000e+00</td>\n",
       "      <td>1939.000000</td>\n",
       "      <td>0.000000</td>\n",
       "      <td>0.000000e+00</td>\n",
       "      <td>1.000000</td>\n",
       "      <td>2.000000</td>\n",
       "    </tr>\n",
       "    <tr>\n",
       "      <th>25%</th>\n",
       "      <td>5.331000e+03</td>\n",
       "      <td>2009.000000</td>\n",
       "      <td>1.800000</td>\n",
       "      <td>7.013900e+04</td>\n",
       "      <td>4.000000</td>\n",
       "      <td>4.000000</td>\n",
       "    </tr>\n",
       "    <tr>\n",
       "      <th>50%</th>\n",
       "      <td>1.317200e+04</td>\n",
       "      <td>2012.000000</td>\n",
       "      <td>2.000000</td>\n",
       "      <td>1.260000e+05</td>\n",
       "      <td>4.000000</td>\n",
       "      <td>4.000000</td>\n",
       "    </tr>\n",
       "    <tr>\n",
       "      <th>75%</th>\n",
       "      <td>2.207500e+04</td>\n",
       "      <td>2015.000000</td>\n",
       "      <td>2.500000</td>\n",
       "      <td>1.888880e+05</td>\n",
       "      <td>4.000000</td>\n",
       "      <td>4.000000</td>\n",
       "    </tr>\n",
       "    <tr>\n",
       "      <th>max</th>\n",
       "      <td>2.630750e+07</td>\n",
       "      <td>2020.000000</td>\n",
       "      <td>20.000000</td>\n",
       "      <td>2.147484e+09</td>\n",
       "      <td>16.000000</td>\n",
       "      <td>5.000000</td>\n",
       "    </tr>\n",
       "  </tbody>\n",
       "</table>\n",
       "</div>"
      ],
      "text/plain": [
       "              Price    Prod. year  Engine volume       Mileage     Cylinders  \\\n",
       "count  1.923700e+04  19237.000000   19237.000000  1.923700e+04  19237.000000   \n",
       "mean   1.855593e+04   2010.912824       2.307990  1.532236e+06      4.582991   \n",
       "std    1.905813e+05      5.668673       0.877805  4.840387e+07      1.199933   \n",
       "min    1.000000e+00   1939.000000       0.000000  0.000000e+00      1.000000   \n",
       "25%    5.331000e+03   2009.000000       1.800000  7.013900e+04      4.000000   \n",
       "50%    1.317200e+04   2012.000000       2.000000  1.260000e+05      4.000000   \n",
       "75%    2.207500e+04   2015.000000       2.500000  1.888880e+05      4.000000   \n",
       "max    2.630750e+07   2020.000000      20.000000  2.147484e+09     16.000000   \n",
       "\n",
       "              Doors  \n",
       "count  19237.000000  \n",
       "mean       3.925872  \n",
       "std        0.403399  \n",
       "min        2.000000  \n",
       "25%        4.000000  \n",
       "50%        4.000000  \n",
       "75%        4.000000  \n",
       "max        5.000000  "
      ]
     },
     "execution_count": 5,
     "metadata": {},
     "output_type": "execute_result"
    }
   ],
   "source": [
    "data.describe()"
   ]
  },
  {
   "cell_type": "code",
   "execution_count": 6,
   "metadata": {},
   "outputs": [
    {
     "data": {
      "text/plain": [
       "(19237, 16)"
      ]
     },
     "execution_count": 6,
     "metadata": {},
     "output_type": "execute_result"
    }
   ],
   "source": [
    "data.shape"
   ]
  },
  {
   "cell_type": "markdown",
   "metadata": {},
   "source": [
    "Finding unique values in each column"
   ]
  },
  {
   "cell_type": "code",
   "execution_count": 7,
   "metadata": {},
   "outputs": [
    {
     "name": "stdout",
     "output_type": "stream",
     "text": [
      "Price\n",
      "[13328 16621  8467 ... 56814 63886 22075]\n",
      "***************************************************************************\n",
      "Manufacturer\n",
      "['LEXUS' 'CHEVROLET' 'HONDA' 'FORD' 'HYUNDAI' 'TOYOTA' 'MERCEDES-BENZ'\n",
      " 'OPEL' 'PORSCHE' 'BMW' 'JEEP' 'VOLKSWAGEN' 'AUDI' 'RENAULT' 'NISSAN'\n",
      " 'SUBARU' 'DAEWOO' 'KIA' 'MITSUBISHI' 'SSANGYONG' 'MAZDA' 'GMC' 'FIAT'\n",
      " 'INFINITI' 'ALFA ROMEO' 'SUZUKI' 'ACURA' 'LINCOLN' 'VAZ' 'GAZ' 'CITROEN'\n",
      " 'LAND ROVER' 'MINI' 'DODGE' 'CHRYSLER' 'JAGUAR' 'ISUZU' 'SKODA'\n",
      " 'DAIHATSU' 'BUICK' 'TESLA' 'CADILLAC' 'PEUGEOT' 'BENTLEY' 'VOLVO' 'სხვა'\n",
      " 'HAVAL' 'HUMMER' 'SCION' 'UAZ' 'MERCURY' 'ZAZ' 'ROVER' 'SEAT' 'LANCIA'\n",
      " 'MOSKVICH' 'MASERATI' 'FERRARI' 'SAAB' 'LAMBORGHINI' 'ROLLS-ROYCE'\n",
      " 'PONTIAC' 'SATURN' 'ASTON MARTIN' 'GREATWALL']\n",
      "***************************************************************************\n",
      "Model\n",
      "['RX 450' 'Equinox' 'FIT' ... 'E 230 124' 'RX 450 F SPORT' 'Prius C aqua']\n",
      "***************************************************************************\n",
      "Prod. year\n",
      "[2010 2011 2006 2014 2016 2013 2007 1999 1997 2018 2008 2012 2017 2001\n",
      " 1995 2009 2000 2019 2015 2004 1998 1990 2005 2003 1985 1996 2002 1993\n",
      " 1992 1988 1977 1989 1994 2020 1984 1986 1991 1983 1953 1964 1974 1987\n",
      " 1943 1978 1965 1976 1957 1980 1939 1968 1947 1982 1981 1973]\n",
      "***************************************************************************\n",
      "Category\n",
      "['Jeep' 'Hatchback' 'Sedan' 'Microbus' 'Goods wagon' 'Universal' 'Coupe'\n",
      " 'Minivan' 'Cabriolet' 'Limousine' 'Pickup']\n",
      "***************************************************************************\n",
      "Leather interior\n",
      "[ True False]\n",
      "***************************************************************************\n",
      "Fuel type\n",
      "['Hybrid' 'Petrol' 'Diesel' 'CNG' 'Plug-in Hybrid' 'LPG' 'Hydrogen']\n",
      "***************************************************************************\n",
      "Engine volume\n",
      "[ 3.5  3.   1.3  2.5  2.   1.8  2.4  4.   1.6  3.3  2.2  4.7  1.5  4.4\n",
      "  1.4  3.6  2.3  5.5  2.8  3.2  3.8  4.6  1.2  5.   1.7  2.9  0.5  1.9\n",
      "  2.7  4.8  5.3  0.4  1.1  2.1  0.7  5.4  3.7  1.   2.6  0.8  0.2  5.7\n",
      "  6.7  6.2  3.4  6.3  4.3  4.2  0.  20.   0.3  5.9  5.6  6.   0.6  6.8\n",
      "  4.5  7.3  0.1  3.1  6.4  3.9  0.9  5.2  5.8]\n",
      "***************************************************************************\n",
      "Mileage\n",
      "[186005 192000 200000 ... 140607 307325 186923]\n",
      "***************************************************************************\n",
      "Cylinders\n",
      "[ 6.  4.  8.  1. 12.  3.  2. 16.  5.  7.  9. 10. 14.]\n",
      "***************************************************************************\n",
      "Gear box type\n",
      "['Automatic' 'Tiptronic' 'Variator' 'Manual']\n",
      "***************************************************************************\n",
      "Drive wheels\n",
      "['4x4' 'Front' 'Rear']\n",
      "***************************************************************************\n",
      "Doors\n",
      "[4 2 5]\n",
      "***************************************************************************\n",
      "Wheel\n",
      "['Left wheel' 'Right-hand drive']\n",
      "***************************************************************************\n",
      "Color\n",
      "['Silver' 'Black' 'White' 'Grey' 'Blue' 'Green' 'Red' 'Sky blue' 'Orange'\n",
      " 'Yellow' 'Brown' 'Golden' 'Beige' 'Carnelian red' 'Purple' 'Pink']\n",
      "***************************************************************************\n",
      "Turbo\n",
      "[False  True]\n",
      "***************************************************************************\n"
     ]
    }
   ],
   "source": [
    "for col in data.columns:\n",
    "    print(col)\n",
    "    print(data[f'{col}'].unique())\n",
    "    print('*'*75)"
   ]
  },
  {
   "cell_type": "markdown",
   "metadata": {},
   "source": [
    "## Inspection for outliers\n",
    "\n",
    "We have to check if data contains some values, that are laying too far from normal and thus can influence our future model\n",
    "\n",
    "Criteria: any data point whose Z-score falls out of 3rd standard deviation is an outlier.\n",
    "\n",
    "![](doc/z-score.png)\n",
    "\n",
    "Data points that lie 1.5 times of IQR above Q3 and below Q1 are outliers. This shows in detail about outlier treatment in Python.\n",
    "\n",
    "![](doc/iqr.png)\n",
    "\n",
    "Steps\n",
    "- Sort the dataset in ascending order\n",
    "- calculate the 1st and 3rd quartiles(Q1, Q3)\n",
    "- compute $IQR=Q3-Q1$\n",
    "- compute $lower\\_bound = (Q1–1.5\\cdot IQR)$, $upper\\_bound = (Q3+1.5\\cdot IQR)$\n",
    "- loop through the values of the dataset and check for those who fall below the lower bound and above the upper bound and mark them as outliers\n",
    "\n",
    "To utilize this, function `detect_outliers` was created. It returns indices, that are too much of a difference with all values.\n",
    "\n",
    "We mainly have to deal with `Price` and `Mileage`, as they are only \"numeric\" values"
   ]
  },
  {
   "cell_type": "code",
   "execution_count": 8,
   "metadata": {},
   "outputs": [
    {
     "name": "stdout",
     "output_type": "stream",
     "text": [
      "[8, 29, 39, 65, 90, 144, 169, 191, 252, 281, 351, 369, 400, 428, 429, 475, 493, 508, 513, 517, 563, 598, 625, 640, 712, 731, 748, 824, 850, 868, 918, 943, 964, 966, 985, 1042, 1053, 1086, 1093, 1118, 1128, 1146, 1148, 1156, 1170, 1208, 1254, 1337, 1368, 1373, 1386, 1404, 1410, 1544, 1560, 1622, 1665, 1701, 1710, 1765, 1788, 1806, 1821, 1846, 1881, 1892, 1893, 1912, 1920, 1950, 2033, 2075, 2105, 2118, 2123, 2126, 2127, 2138, 2188, 2255, 2274, 2278, 2286, 2319, 2324, 2399, 2418, 2461, 2464, 2501, 2512, 2529, 2584, 2588, 2635, 2638, 2666, 2874, 2897, 2903, 2952, 2961, 2986, 3043, 3056, 3083, 3097, 3170, 3177, 3219, 3282, 3320, 3326, 3505, 3548, 3604, 3607, 3624, 3627, 3652, 3698, 3706, 3715, 3721, 3726, 3744, 3747, 3781, 3792, 3845, 3850, 3877, 3895, 3896, 3985, 3995, 4004, 4009, 4023, 4040, 4061, 4079, 4080, 4130, 4148, 4170, 4174, 4175, 4187, 4200, 4230, 4248, 4371, 4394, 4429, 4432, 4445, 4516, 4541, 4552, 4658, 4685, 4694, 4823, 4892, 4893, 4907, 4941, 4996, 5068, 5130, 5146, 5164, 5219, 5228, 5232, 5254, 5306, 5323, 5336, 5346, 5380, 5427, 5456, 5473, 5586, 5640, 5671, 5679, 5765, 5778, 5788, 5834, 5855, 5859, 5860, 5866, 5883, 5916, 5924, 5956, 5969, 6055, 6074, 6090, 6107, 6119, 6141, 6143, 6157, 6159, 6205, 6219, 6247, 6278, 6298, 6314, 6359, 6394, 6434, 6449, 6452, 6454, 6455, 6484, 6507, 6513, 6526, 6542, 6589, 6619, 6640, 6648, 6664, 6680, 6701, 6714, 6734, 6753, 6763, 6787, 6795, 6804, 6862, 6890, 6933, 7000, 7067, 7084, 7090, 7111, 7221, 7235, 7256, 7272, 7305, 7349, 7350, 7359, 7364, 7366, 7422, 7429, 7438, 7480, 7511, 7513, 7549, 7551, 7568, 7599, 7608, 7724, 7759, 7763, 7920, 7924, 7975, 8017, 8092, 8132, 8182, 8239, 8242, 8282, 8314, 8327, 8344, 8352, 8368, 8383, 8427, 8485, 8486, 8517, 8569, 8658, 8675, 8695, 8772, 8775, 8809, 8824, 8858, 8876, 8886, 8888, 8904, 8935, 8952, 9063, 9086, 9087, 9091, 9096, 9103, 9114, 9140, 9145, 9165, 9192, 9249, 9285, 9302, 9329, 9330, 9338, 9342, 9445, 9524, 9542, 9592, 9623, 9685, 9689, 9744, 9795, 10018, 10026, 10056, 10066, 10073, 10077, 10171, 10188, 10190, 10207, 10222, 10231, 10258, 10266, 10275, 10281, 10300, 10384, 10406, 10415, 10455, 10486, 10491, 10503, 10564, 10601, 10610, 10614, 10637, 10644, 10667, 10683, 10700, 10758, 10770, 10776, 10811, 10855, 10857, 10869, 10894, 10896, 10945, 10958, 10959, 10960, 10973, 10993, 11022, 11062, 11088, 11144, 11225, 11266, 11277, 11280, 11291, 11303, 11361, 11374, 11406, 11419, 11430, 11472, 11513, 11536, 11622, 11709, 11714, 11764, 11889, 11901, 11919, 11928, 11936, 11944, 11955, 12100, 12103, 12131, 12145, 12214, 12220, 12226, 12241, 12297, 12313, 12414, 12463, 12489, 12533, 12591, 12602, 12605, 12615, 12624, 12656, 12734, 12760, 12770, 12799, 12846, 12904, 12994, 12997, 13024, 13033, 13051, 13061, 13094, 13121, 13125, 13218, 13221, 13279, 13327, 13352, 13396, 13422, 13447, 13453, 13454, 13527, 13533, 13551, 13565, 13566, 13627, 13770, 13776, 13793, 13803, 13806, 13817, 13850, 13902, 13919, 13947, 14027, 14035, 14046, 14098, 14134, 14138, 14196, 14219, 14235, 14288, 14332, 14339, 14353, 14359, 14361, 14375, 14387, 14411, 14496, 14508, 14517, 14583, 14589, 14600, 14697, 14706, 14792, 14866, 14882, 14896, 14948, 14953, 14980, 14996, 15072, 15156, 15238, 15270, 15288, 15328, 15347, 15348, 15362, 15364, 15383, 15392, 15393, 15461, 15520, 15548, 15574, 15592, 15627, 15665, 15735, 15742, 15746, 15828, 15833, 15883, 15911, 16005, 16038, 16156, 16181, 16182, 16214, 16288, 16295, 16323, 16333, 16457, 16480, 16520, 16532, 16584, 16586, 16597, 16627, 16633, 16689, 16721, 16733, 16744, 16792, 16834, 16866, 16882, 16924, 16981, 17006, 17046, 17122, 17140, 17157, 17159, 17198, 17206, 17217, 17260, 17275, 17346, 17352, 17446, 17497, 17505, 17520, 17523, 17550, 17582, 17608, 17628, 17655, 17665, 17740, 17807, 17843, 17897, 17921, 17945, 17949, 17969, 18030, 18094, 18137, 18171, 18176, 18225, 18249, 18295, 18325, 18345, 18347, 18350, 18393, 18422, 18437, 18445, 18477, 18561, 18581, 18607, 18616, 18646, 18650, 18673, 18740, 18772, 18829, 18846, 18888, 18894, 18937, 18950, 18993, 18996, 19037, 19116, 19140, 19151, 19163, 19167, 19194, 19199, 19222, 14, 36, 47, 56, 73, 90, 111, 127, 159, 189, 211, 232, 249, 261, 262, 263, 278, 283, 316, 370, 420, 424, 437, 445, 450, 451, 455, 483, 573, 579, 580, 581, 604, 618, 633, 650, 687, 711, 723, 724, 732, 740, 747, 839, 843, 849, 855, 857, 874, 902, 906, 907, 929, 977, 1019, 1027, 1083, 1090, 1106, 1128, 1132, 1143, 1145, 1162, 1171, 1179, 1218, 1222, 1225, 1261, 1265, 1272, 1278, 1297, 1299, 1316, 1325, 1342, 1364, 1383, 1401, 1428, 1448, 1459, 1478, 1487, 1490, 1509, 1510, 1537, 1539, 1557, 1562, 1573, 1582, 1609, 1612, 1626, 1657, 1662, 1672, 1673, 1704, 1726, 1737, 1740, 1766, 1781, 1803, 1805, 1820, 1823, 1832, 1916, 1956, 1970, 1993, 2010, 2037, 2054, 2055, 2058, 2071, 2085, 2109, 2182, 2184, 2192, 2283, 2325, 2330, 2353, 2365, 2366, 2372, 2373, 2411, 2416, 2437, 2438, 2504, 2534, 2535, 2550, 2560, 2569, 2604, 2615, 2618, 2675, 2676, 2691, 2726, 2728, 2742, 2768, 2794, 2799, 2830, 2859, 2912, 2922, 2924, 2932, 2941, 2942, 2965, 2988, 2996, 3006, 3021, 3028, 3032, 3064, 3086, 3101, 3111, 3127, 3132, 3137, 3149, 3159, 3167, 3216, 3228, 3255, 3290, 3319, 3365, 3386, 3427, 3446, 3467, 3477, 3478, 3487, 3490, 3519, 3530, 3570, 3628, 3641, 3684, 3686, 3704, 3705, 3707, 3728, 3757, 3765, 3813, 3818, 3829, 3834, 3836, 3905, 3906, 3918, 3923, 3940, 3950, 3970, 3997, 4044, 4051, 4068, 4077, 4084, 4131, 4133, 4140, 4181, 4183, 4189, 4208, 4211, 4213, 4237, 4255, 4294, 4301, 4351, 4382, 4430, 4454, 4465, 4497, 4499, 4520, 4534, 4578, 4590, 4629, 4649, 4654, 4661, 4662, 4688, 4705, 4709, 4722, 4734, 4744, 4752, 4763, 4775, 4789, 4900, 4918, 4919, 4953, 4986, 4991, 5008, 5018, 5021, 5065, 5096, 5104, 5105, 5171, 5242, 5250, 5259, 5284, 5291, 5301, 5322, 5349, 5412, 5419, 5485, 5514, 5541, 5560, 5562, 5574, 5588, 5599, 5625, 5641, 5665, 5667, 5683, 5685, 5709, 5718, 5731, 5737, 5769, 5840, 5905, 5910, 5917, 5919, 5920, 5921, 5926, 5940, 5941, 5958, 5962, 5987, 6004, 6081, 6084, 6087, 6093, 6096, 6152, 6201, 6202, 6212, 6215, 6248, 6299, 6302, 6325, 6327, 6329, 6335, 6379, 6383, 6405, 6424, 6451, 6457, 6459, 6466, 6468, 6607, 6625, 6629, 6636, 6645, 6652, 6686, 6720, 6748, 6767, 6768, 6825, 6826, 6851, 6858, 6873, 6887, 6899, 6950, 6953, 7010, 7031, 7034, 7038, 7039, 7056, 7094, 7100, 7143, 7147, 7152, 7165, 7185, 7187, 7194, 7247, 7254, 7261, 7283, 7318, 7331, 7338, 7339, 7353, 7372, 7416, 7430, 7461, 7472, 7494, 7565, 7590, 7603, 7621, 7632, 7636, 7641, 7667, 7675, 7686, 7702, 7718, 7722, 7723, 7747, 7749, 7760, 7778, 7824, 7851, 7902, 7915, 7918, 7941, 7957, 7970, 7979, 7986, 7987, 7997, 8016, 8022, 8035, 8036, 8057, 8074, 8112, 8120, 8147, 8164, 8176, 8190, 8246, 8273, 8302, 8320, 8331, 8341, 8351, 8366, 8374, 8393, 8406, 8415, 8419, 8437, 8508, 8521, 8523, 8538, 8541, 8545, 8547, 8560, 8566, 8617, 8620, 8629, 8644, 8660, 8664, 8706, 8730, 8740, 8753, 8755, 8776, 8784, 8805, 8821, 8825, 8842, 8843, 8870, 8880, 8891, 8910, 8914, 8927, 8930, 8946, 8957, 8958, 8971, 9013, 9022, 9101, 9120, 9136, 9138, 9166, 9171, 9172, 9197, 9200, 9212, 9233, 9247, 9248, 9259, 9293, 9327, 9367, 9381, 9405, 9423, 9441, 9448, 9452, 9468, 9479, 9551, 9575, 9580, 9602, 9660, 9688, 9691, 9696, 9699, 9706, 9710, 9717, 9736, 9739, 9740, 9754, 9796, 9812, 9857, 9912, 9917, 9950, 9972, 9973, 10015, 10029, 10067, 10082, 10085, 10090, 10098, 10125, 10137, 10138, 10140, 10143, 10149, 10152, 10161, 10162, 10220, 10230, 10238, 10253, 10286, 10295, 10304, 10312, 10317, 10322, 10331, 10333, 10372, 10382, 10390, 10396, 10409, 10423, 10468, 10470, 10520, 10536, 10546, 10550, 10559, 10569, 10577, 10584, 10596, 10615, 10619, 10642, 10648, 10656, 10681, 10690, 10710, 10714, 10717, 10732, 10733, 10759, 10775, 10811, 10827, 10849, 10860, 10874, 10934, 10939, 10942, 10948, 11020, 11021, 11034, 11035, 11038, 11041, 11060, 11066, 11083, 11109, 11131, 11138, 11155, 11164, 11165, 11166, 11198, 11210, 11218, 11247, 11270, 11298, 11317, 11322, 11338, 11354, 11360, 11385, 11436, 11445, 11519, 11529, 11537, 11553, 11554, 11589, 11624, 11629, 11642, 11670, 11695, 11704, 11745, 11747, 11756, 11782, 11827, 11836, 11853, 11854, 11880, 11885, 11902, 11906, 11914, 11920, 11925, 11941, 11942, 11973, 12081, 12089, 12092, 12101, 12114, 12134, 12146, 12152, 12161, 12163, 12169, 12197, 12216, 12222, 12224, 12242, 12258, 12266, 12302, 12303, 12321, 12327, 12338, 12340, 12352, 12364, 12373, 12385, 12388, 12407, 12416, 12420, 12454, 12480, 12482, 12521, 12541, 12554, 12560, 12588, 12593, 12604, 12609, 12661, 12716, 12718, 12719, 12733, 12740, 12750, 12757, 12796, 12848, 12867, 12869, 12905, 12908, 12909, 12914, 12941, 12976, 12981, 12982, 12983, 13016, 13037, 13088, 13093, 13098, 13114, 13144, 13175, 13189, 13226, 13236, 13240, 13265, 13320, 13324, 13325, 13328, 13330, 13334, 13336, 13351, 13363, 13390, 13467, 13507, 13534, 13548, 13559, 13572, 13577, 13598, 13601, 13622, 13631, 13653, 13671, 13687, 13701, 13723, 13743, 13745, 13760, 13811, 13815, 13846, 13847, 13884, 13889, 13901, 13918, 13931, 13941, 13944, 13954, 13970, 13973, 13984, 13999, 14012, 14037, 14051, 14055, 14092, 14103, 14110, 14147, 14151, 14181, 14189, 14193, 14229, 14255, 14265, 14286, 14312, 14343, 14346, 14356, 14406, 14428, 14435, 14473, 14523, 14557, 14563, 14592, 14630, 14636, 14645, 14675, 14677, 14700, 14716, 14739, 14749, 14752, 14763, 14767, 14783, 14833, 14834, 14839, 14871, 14876, 14877, 14889, 14930, 14952, 14999, 15031, 15048, 15084, 15091, 15093, 15096, 15127, 15131, 15179, 15187, 15223, 15228, 15233, 15245, 15259, 15267, 15283, 15303, 15311, 15323, 15324, 15336, 15349, 15367, 15377, 15379, 15387, 15405, 15413, 15417, 15421, 15433, 15454, 15469, 15477, 15486, 15489, 15496, 15538, 15575, 15586, 15623, 15659, 15678, 15697, 15773, 15779, 15820, 15821, 15832, 15835, 15849, 15852, 15859, 15872, 15913, 15918, 15946, 15966, 15973, 15976, 16014, 16019, 16022, 16056, 16081, 16084, 16103, 16213, 16226, 16245, 16253, 16272, 16279, 16331, 16351, 16364, 16418, 16427, 16432, 16481, 16483, 16486, 16519, 16525, 16534, 16538, 16548, 16570, 16591, 16596, 16614, 16635, 16636, 16643, 16645, 16667, 16682, 16697, 16698, 16718, 16768, 16796, 16808, 16838, 16841, 16849, 16852, 16873, 16888, 16897, 16905, 16921, 16926, 16951, 16961, 16963, 16983, 17005, 17020, 17023, 17069, 17085, 17096, 17141, 17145, 17153, 17167, 17172, 17216, 17237, 17239, 17258, 17278, 17287, 17292, 17298, 17304, 17310, 17348, 17396, 17406, 17426, 17438, 17452, 17463, 17471, 17478, 17480, 17504, 17506, 17508, 17527, 17555, 17583, 17617, 17619, 17643, 17666, 17684, 17728, 17733, 17760, 17790, 17802, 17859, 17868, 17870, 17930, 17952, 17957, 17962, 18013, 18018, 18115, 18120, 18142, 18144, 18148, 18156, 18164, 18179, 18231, 18267, 18285, 18291, 18363, 18376, 18383, 18389, 18400, 18441, 18449, 18498, 18559, 18564, 18594, 18598, 18617, 18620, 18627, 18640, 18669, 18671, 18720, 18721, 18746, 18787, 18815, 18824, 18853, 18872, 18878, 18881, 18885, 18941, 19017, 19062, 19085, 19109, 19111, 19121, 19144, 19161, 19180, 19188, 19211]\n"
     ]
    }
   ],
   "source": [
    "def detect_outliers(dataframe, columns, threshold=1.5):\n",
    "    outlier_indices = []\n",
    "\n",
    "    for c in columns:\n",
    "        Q1 = np.percentile(dataframe[c], 25)\n",
    "        Q3 = np.percentile(dataframe[c], 75)\n",
    "        IQR = Q3 - Q1\n",
    "        outlier_step = IQR * threshold\n",
    "        outlier_list_col = dataframe[(dataframe[c] < Q1 - outlier_step)\n",
    "                                     | (dataframe[c] > Q3 + outlier_step)].index\n",
    "        outlier_indices.extend(outlier_list_col)\n",
    "\n",
    "    return outlier_indices\n",
    "\n",
    "columns_to_detect = [\"Mileage\", \"Price\"]\n",
    "\n",
    "outliers = detect_outliers(data, columns_to_detect)\n",
    "print(outliers)"
   ]
  },
  {
   "cell_type": "markdown",
   "metadata": {},
   "source": [
    "Let's now check how values are placed in our array"
   ]
  },
  {
   "cell_type": "code",
   "execution_count": 9,
   "metadata": {},
   "outputs": [
    {
     "name": "stdout",
     "output_type": "stream",
     "text": [
      "Ranges for Mileage: -107984.5 - 367011.5\n",
      "Ranges for Price: -19785.0 - 47191.0\n"
     ]
    },
    {
     "data": {
      "text/plain": [
       "Price                     1098\n",
       "Manufacturer            TOYOTA\n",
       "Model                    Camry\n",
       "Prod. year                2014\n",
       "Category                 Sedan\n",
       "Leather interior          True\n",
       "Fuel type               Hybrid\n",
       "Engine volume              2.5\n",
       "Mileage                 398069\n",
       "Cylinders                  4.0\n",
       "Gear box type        Automatic\n",
       "Drive wheels             Front\n",
       "Doors                        4\n",
       "Wheel               Left wheel\n",
       "Color                    Black\n",
       "Turbo                    False\n",
       "Name: 8, dtype: object"
      ]
     },
     "execution_count": 9,
     "metadata": {},
     "output_type": "execute_result"
    }
   ],
   "source": [
    "def print_ranges(c, threshold=1.5):\n",
    "    Q1 = np.percentile(data[c], 25)\n",
    "    Q3 = np.percentile(data[c], 75)\n",
    "    IQR = Q3 - Q1\n",
    "    outlier_step = IQR * threshold\n",
    "    left = Q1 - outlier_step\n",
    "    right = Q3 + outlier_step\n",
    "    print(f\"Ranges for {c}: {left} - {right}\")\n",
    "    \n",
    "print_ranges(\"Mileage\")\n",
    "print_ranges(\"Price\")\n",
    "data.iloc[outliers[0]]"
   ]
  },
  {
   "cell_type": "markdown",
   "metadata": {},
   "source": [
    "As we can see, this line has too high `Mileage`, thus is an outlier. \n",
    "\n",
    "But before we go into removing outliers, it makes sence to see them in diagrams and graphics"
   ]
  },
  {
   "cell_type": "code",
   "execution_count": 15,
   "metadata": {},
   "outputs": [
    {
     "data": {
      "image/png": "[encoded data removed]",
      "text/plain": [
       "<Figure size 1000x600 with 1 Axes>"
      ]
     },
     "metadata": {},
     "output_type": "display_data"
    }
   ],
   "source": [
    "plt.figure(figsize=(10, 6))\n",
    "plt.hist(data['Price'], bins=30, color='blue', alpha=0.7, label='Column1')\n",
    "plt.xlabel('Values')\n",
    "plt.ylabel('Frequency')\n",
    "plt.title('Histogram of Column1')\n",
    "plt.legend()\n",
    "plt.show()"
   ]
  },
  {
   "cell_type": "code",
   "execution_count": null,
   "metadata": {},
   "outputs": [],
   "source": [
    "label_encoder = LabelEncoder()\n",
    "# data['Manufacturer_encoded'] = label_encoder.fit_transform(data['Manufacturer'])\n",
    "data[8]"
   ]
  },
  {
   "cell_type": "code",
   "execution_count": null,
   "metadata": {},
   "outputs": [],
   "source": [
    "# dict(zip(label_encoder.classes_, label_encoder.transform(label_encoder.classes_)))\n",
    "# label_encoder.classes_"
   ]
  },
  {
   "cell_type": "code",
   "execution_count": null,
   "metadata": {},
   "outputs": [],
   "source": [
    "data"
   ]
  },
  {
   "cell_type": "code",
   "execution_count": null,
   "metadata": {},
   "outputs": [],
   "source": [
    "def detect_outliers(df,features,thold):\n",
    "    outlier_indices = []\n",
    "    \n",
    "    for c in features:\n",
    "        # 1st quartile\n",
    "        Q1 = np.percentile(df[c],25)\n",
    "        # 3rd quartile\n",
    "        Q3 = np.percentile(df[c],75)\n",
    "        # IQR\n",
    "        IQR = Q3 - Q1\n",
    "        # Outlier step\n",
    "        outlier_step = IQR * thold\n",
    "        # Detect outlier and their indeces\n",
    "        outlier_list_col = df[(df[c] < Q1 - outlier_step) | (df[c] > Q3 + outlier_step)].index\n",
    "        # Store indeces\n",
    "        outlier_indices.extend(outlier_list_col)\n",
    "    \n",
    "    \n",
    "    return outlier_indices"
   ]
  },
  {
   "cell_type": "code",
   "execution_count": null,
   "metadata": {},
   "outputs": [],
   "source": []
  },
  {
   "cell_type": "code",
   "execution_count": null,
   "metadata": {},
   "outputs": [],
   "source": []
  },
  {
   "cell_type": "code",
   "execution_count": null,
   "metadata": {},
   "outputs": [],
   "source": []
  },
  {
   "cell_type": "code",
   "execution_count": null,
   "metadata": {},
   "outputs": [],
   "source": []
  },
  {
   "cell_type": "code",
   "execution_count": null,
   "metadata": {},
   "outputs": [],
   "source": [
    "# label_encoder = LabelEncoder()\n",
    "# # data['Engine volume_new'] = label_encoder.fit_transform(data['Engine volume'])\n",
    "# # dict(zip(label_encoder.classes_, label_encoder.transform(label_encoder.classes_)))\n",
    "\n",
    "# train_frame = pd.DataFrame()\n",
    "\n",
    "# transform_dict = {\"Manufacturer\" : {},\n",
    "#                   \"Category\" : {},\n",
    "#                   \"Leather interior\" : {},\n",
    "#                   \"Fuel type\" : {},\n",
    "#                   \"Engine volume\" : {},\n",
    "#                   \"Gear box type\" : {},\n",
    "#                   \"Drive wheels\" : {},\n",
    "#                   \"Wheel\" : {},\n",
    "#                   \"Color\" : {}}\n",
    "\n",
    "\n",
    "\n",
    "# for key in transform_dict:\n",
    "#     label_encoder = LabelEncoder()\n",
    "#     train_frame[key] = label_encoder.fit_transform(data[key])\n",
    "#     transform_dict[key] = dict(zip(label_encoder.classes_, label_encoder.transform(label_encoder.classes_)))\n",
    "    \n",
    "\n",
    "# for column in data.columns:\n",
    "#     if column not in train_frame.columns and column != \"Model\":\n",
    "#         train_frame[column] = data[column]"
   ]
  },
  {
   "cell_type": "code",
   "execution_count": null,
   "metadata": {},
   "outputs": [],
   "source": [
    "train_frame"
   ]
  },
  {
   "cell_type": "code",
   "execution_count": null,
   "metadata": {},
   "outputs": [],
   "source": [
    "X = train_frame.drop(['Price', 'Manufacturer'], axis=1)  # X contains all columns except 'Price'\n",
    "y = train_frame['Price']  # y contains only the 'Price' column\n",
    "\n",
    "# Split the data into training and testing sets\n",
    "X_train, X_test, y_train, y_test = train_test_split(X, y, test_size=0.2, random_state=42)\n",
    "\n",
    "# Create a linear regression model\n",
    "model = LinearRegression()\n",
    "\n",
    "# Train the model on the training set\n",
    "model.fit(X_train, y_train)\n",
    "\n",
    "# Make predictions on the testing set\n",
    "y_pred = model.predict(X_test)\n",
    "\n",
    "# Evaluate the model\n",
    "mse = mean_squared_error(y_test, y_pred)\n",
    "r2 = r2_score(y_test, y_pred)\n",
    "\n",
    "# Print evaluation metrics\n",
    "print('Mean Squared Error:', mse)\n",
    "print('R-squared:', r2)"
   ]
  }
 ],
 "metadata": {
  "kernelspec": {
   "display_name": "recomendation-venv",
   "language": "python",
   "name": "python3"
  },
  "language_info": {
   "codemirror_mode": {
    "name": "ipython",
    "version": 3
   },
   "file_extension": ".py",
   "mimetype": "text/x-python",
   "name": "python",
   "nbconvert_exporter": "python",
   "pygments_lexer": "ipython3",
   "version": "3.11.6"
  }
 },
 "nbformat": 4,
 "nbformat_minor": 2
}
